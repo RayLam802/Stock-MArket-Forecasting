{
 "cells": [
  {
   "cell_type": "code",
   "execution_count": 2,
   "id": "3bb42c7d-4924-4b15-b29f-76a53beadebf",
   "metadata": {},
   "outputs": [],
   "source": [
    "import pandas as pd\n",
    "from stockstats import wrap\n",
    "\n",
    "data = pd.read_csv('HSI.csv')\n",
    "df = wrap(data)"
   ]
  },
  {
   "cell_type": "code",
   "execution_count": 3,
   "id": "65e52800",
   "metadata": {},
   "outputs": [
    {
     "data": {
      "text/html": [
       "<div>\n",
       "<style scoped>\n",
       "    .dataframe tbody tr th:only-of-type {\n",
       "        vertical-align: middle;\n",
       "    }\n",
       "\n",
       "    .dataframe tbody tr th {\n",
       "        vertical-align: top;\n",
       "    }\n",
       "\n",
       "    .dataframe thead th {\n",
       "        text-align: right;\n",
       "    }\n",
       "</style>\n",
       "<table border=\"1\" class=\"dataframe\">\n",
       "  <thead>\n",
       "    <tr style=\"text-align: right;\">\n",
       "      <th></th>\n",
       "      <th>close</th>\n",
       "      <th>close_-1_s</th>\n",
       "      <th>close_2_s</th>\n",
       "    </tr>\n",
       "    <tr>\n",
       "      <th>date</th>\n",
       "      <th></th>\n",
       "      <th></th>\n",
       "      <th></th>\n",
       "    </tr>\n",
       "  </thead>\n",
       "  <tbody>\n",
       "    <tr>\n",
       "      <th>2023-01-03</th>\n",
       "      <td>20145.289062</td>\n",
       "      <td>20145.289062</td>\n",
       "      <td>21052.169922</td>\n",
       "    </tr>\n",
       "    <tr>\n",
       "      <th>2023-01-04</th>\n",
       "      <td>20793.109375</td>\n",
       "      <td>20145.289062</td>\n",
       "      <td>20991.640625</td>\n",
       "    </tr>\n",
       "    <tr>\n",
       "      <th>2023-01-05</th>\n",
       "      <td>21052.169922</td>\n",
       "      <td>20793.109375</td>\n",
       "      <td>21388.339844</td>\n",
       "    </tr>\n",
       "    <tr>\n",
       "      <th>2023-01-06</th>\n",
       "      <td>20991.640625</td>\n",
       "      <td>21052.169922</td>\n",
       "      <td>21331.460938</td>\n",
       "    </tr>\n",
       "    <tr>\n",
       "      <th>2023-01-09</th>\n",
       "      <td>21388.339844</td>\n",
       "      <td>20991.640625</td>\n",
       "      <td>21436.050781</td>\n",
       "    </tr>\n",
       "    <tr>\n",
       "      <th>...</th>\n",
       "      <td>...</td>\n",
       "      <td>...</td>\n",
       "      <td>...</td>\n",
       "    </tr>\n",
       "    <tr>\n",
       "      <th>2023-12-21</th>\n",
       "      <td>16621.130859</td>\n",
       "      <td>16613.810547</td>\n",
       "      <td>16624.839844</td>\n",
       "    </tr>\n",
       "    <tr>\n",
       "      <th>2023-12-22</th>\n",
       "      <td>16340.410156</td>\n",
       "      <td>16621.130859</td>\n",
       "      <td>17043.529297</td>\n",
       "    </tr>\n",
       "    <tr>\n",
       "      <th>2023-12-27</th>\n",
       "      <td>16624.839844</td>\n",
       "      <td>16340.410156</td>\n",
       "      <td>17047.390625</td>\n",
       "    </tr>\n",
       "    <tr>\n",
       "      <th>2023-12-28</th>\n",
       "      <td>17043.529297</td>\n",
       "      <td>16624.839844</td>\n",
       "      <td>17047.390625</td>\n",
       "    </tr>\n",
       "    <tr>\n",
       "      <th>2023-12-29</th>\n",
       "      <td>17047.390625</td>\n",
       "      <td>17043.529297</td>\n",
       "      <td>17047.390625</td>\n",
       "    </tr>\n",
       "  </tbody>\n",
       "</table>\n",
       "<p>243 rows × 3 columns</p>\n",
       "</div>"
      ],
      "text/plain": [
       "                   close    close_-1_s     close_2_s\n",
       "date                                                \n",
       "2023-01-03  20145.289062  20145.289062  21052.169922\n",
       "2023-01-04  20793.109375  20145.289062  20991.640625\n",
       "2023-01-05  21052.169922  20793.109375  21388.339844\n",
       "2023-01-06  20991.640625  21052.169922  21331.460938\n",
       "2023-01-09  21388.339844  20991.640625  21436.050781\n",
       "...                  ...           ...           ...\n",
       "2023-12-21  16621.130859  16613.810547  16624.839844\n",
       "2023-12-22  16340.410156  16621.130859  17043.529297\n",
       "2023-12-27  16624.839844  16340.410156  17047.390625\n",
       "2023-12-28  17043.529297  16624.839844  17047.390625\n",
       "2023-12-29  17047.390625  17043.529297  17047.390625\n",
       "\n",
       "[243 rows x 3 columns]"
      ]
     },
     "execution_count": 3,
     "metadata": {},
     "output_type": "execute_result"
    }
   ],
   "source": [
    "df[['close', 'close_-1_s', 'close_2_s']]"
   ]
  },
  {
   "cell_type": "code",
   "execution_count": 4,
   "id": "ccb9d87a",
   "metadata": {},
   "outputs": [
    {
     "ename": "SyntaxError",
     "evalue": "invalid syntax (1951995059.py, line 1)",
     "output_type": "error",
     "traceback": [
      "\u001b[1;36m  Cell \u001b[1;32mIn[4], line 1\u001b[1;36m\u001b[0m\n\u001b[1;33m    df[]\u001b[0m\n\u001b[1;37m       ^\u001b[0m\n\u001b[1;31mSyntaxError\u001b[0m\u001b[1;31m:\u001b[0m invalid syntax\n"
     ]
    }
   ],
   "source": [
    "df[]"
   ]
  },
  {
   "cell_type": "code",
   "execution_count": 5,
   "id": "9df5b5c6",
   "metadata": {},
   "outputs": [
    {
     "name": "stdout",
     "output_type": "stream",
     "text": [
      "                    open          high           low         close  \\\n",
      "date                                                                 \n",
      "2023-01-03  19570.429688  20212.550781  19303.730469  20145.289062   \n",
      "2023-01-04  20319.980469  20793.109375  20233.390625  20793.109375   \n",
      "2023-01-05  21295.869141  21396.089844  20962.400391  21052.169922   \n",
      "2023-01-06  21220.890625  21282.710938  20862.769531  20991.640625   \n",
      "2023-01-09  21295.939453  21470.689453  21216.919922  21388.339844   \n",
      "...                  ...           ...           ...           ...   \n",
      "2023-12-21  16455.140625  16649.570312  16444.730469  16621.130859   \n",
      "2023-12-22  16743.060547  16857.839844  16271.500000  16340.410156   \n",
      "2023-12-27  16561.779297  16673.570312  16439.259766  16624.839844   \n",
      "2023-12-28  16678.230469  17086.099609  16644.429688  17043.529297   \n",
      "2023-12-29  17066.519531  17095.119141  16950.900391  17047.390625   \n",
      "\n",
      "               adj close      volume    close_-1_s     close_2_s  \n",
      "date                                                              \n",
      "2023-01-03  20145.289062  2286651100  20145.289062  21052.169922  \n",
      "2023-01-04  20793.109375  3015986300  20145.289062  20991.640625  \n",
      "2023-01-05  21052.169922  2875372400  20793.109375  21388.339844  \n",
      "2023-01-06  20991.640625  2754459500  21052.169922  21331.460938  \n",
      "2023-01-09  21388.339844  2697924400  20991.640625  21436.050781  \n",
      "...                  ...         ...           ...           ...  \n",
      "2023-12-21  16621.130859  1404417200  16613.810547  16624.839844  \n",
      "2023-12-22  16340.410156  2197553900  16621.130859  17043.529297  \n",
      "2023-12-27  16624.839844  2228051300  16340.410156  17047.390625  \n",
      "2023-12-28  17043.529297  2301329400  16624.839844  17047.390625  \n",
      "2023-12-29  17047.390625  1570053000  17043.529297  17047.390625  \n",
      "\n",
      "[243 rows x 8 columns]\n"
     ]
    }
   ],
   "source": [
    "print (df)"
   ]
  },
  {
   "cell_type": "code",
   "execution_count": 6,
   "id": "b779bd19",
   "metadata": {},
   "outputs": [
    {
     "data": {
      "text/plain": [
       "date\n",
       "2023-01-03           NaN\n",
       "2023-01-04    100.000000\n",
       "2023-01-05    100.000000\n",
       "2023-01-06     92.958969\n",
       "2023-01-09     95.296430\n",
       "                 ...    \n",
       "2023-12-21     45.176795\n",
       "2023-12-22     40.053515\n",
       "2023-12-27     46.654593\n",
       "2023-12-28     54.582773\n",
       "2023-12-29     54.649713\n",
       "Name: rsi, Length: 243, dtype: float64"
      ]
     },
     "execution_count": 6,
     "metadata": {},
     "output_type": "execute_result"
    }
   ],
   "source": [
    "df['rsi']"
   ]
  },
  {
   "cell_type": "code",
   "execution_count": 8,
   "id": "3d24409e",
   "metadata": {},
   "outputs": [
    {
     "data": {
      "text/plain": [
       "date\n",
       "2023-01-03      0.000000\n",
       "2023-01-04     14.534430\n",
       "2023-01-05     26.553201\n",
       "2023-01-06     29.183435\n",
       "2023-01-09     45.783855\n",
       "                 ...    \n",
       "2023-12-21   -219.840944\n",
       "2023-12-22   -224.112474\n",
       "2023-12-27   -202.215579\n",
       "2023-12-28   -149.355713\n",
       "2023-12-29   -105.931202\n",
       "Name: macd, Length: 243, dtype: float64"
      ]
     },
     "execution_count": 8,
     "metadata": {},
     "output_type": "execute_result"
    }
   ],
   "source": [
    "df['macd']"
   ]
  },
  {
   "cell_type": "code",
   "execution_count": 22,
   "id": "987329fd",
   "metadata": {},
   "outputs": [],
   "source": [
    "adr = (df['high_-1_s'] - df['low_-1_s'] + df['high_-2_s'] - df['low_-2_s'] + df['high_-3_s'] - df['low_-3_s']\n",
    "            + df['high_-4_s'] - df['low_-4_s'] + df['high_-5_s'] - df['low_-5_s']) / 5"
   ]
  },
  {
   "cell_type": "code",
   "execution_count": 23,
   "id": "8f86d8ea",
   "metadata": {},
   "outputs": [
    {
     "name": "stdout",
     "output_type": "stream",
     "text": [
      "date\n",
      "2023-01-03    908.820312\n",
      "2023-01-04    908.820312\n",
      "2023-01-05    839.000000\n",
      "2023-01-06    743.973828\n",
      "2023-01-09    646.198047\n",
      "                 ...    \n",
      "2023-12-21    223.156445\n",
      "2023-12-22    212.418359\n",
      "2023-12-27    258.960156\n",
      "2023-12-28    277.716406\n",
      "2023-12-29    331.744141\n",
      "Length: 243, dtype: float64\n"
     ]
    }
   ],
   "source": [
    "print(adr)"
   ]
  },
  {
   "cell_type": "code",
   "execution_count": 24,
   "id": "c2b09ff2",
   "metadata": {},
   "outputs": [
    {
     "data": {
      "text/plain": [
       "date\n",
       "2023-01-03    20145.289062\n",
       "2023-01-04    20751.648875\n",
       "2023-01-05    21052.421562\n",
       "2023-01-06    21057.587321\n",
       "2023-01-09    21342.246033\n",
       "                  ...     \n",
       "2023-12-21    16642.317632\n",
       "2023-12-22    16444.070144\n",
       "2023-12-27    16556.393243\n",
       "2023-12-28    16902.371637\n",
       "2023-12-29    17049.744218\n",
       "Name: tema, Length: 243, dtype: float64"
      ]
     },
     "execution_count": 24,
     "metadata": {},
     "output_type": "execute_result"
    }
   ],
   "source": [
    "df['tema']"
   ]
  },
  {
   "cell_type": "code",
   "execution_count": null,
   "id": "095b1859",
   "metadata": {},
   "outputs": [],
   "source": []
  },
  {
   "cell_type": "code",
   "execution_count": null,
   "id": "0189a1ee",
   "metadata": {},
   "outputs": [],
   "source": []
  },
  {
   "cell_type": "code",
   "execution_count": null,
   "id": "7b058683",
   "metadata": {},
   "outputs": [],
   "source": []
  }
 ],
 "metadata": {
  "kernelspec": {
   "display_name": "Python 3 (ipykernel)",
   "language": "python",
   "name": "python3"
  },
  "language_info": {
   "codemirror_mode": {
    "name": "ipython",
    "version": 3
   },
   "file_extension": ".py",
   "mimetype": "text/x-python",
   "name": "python",
   "nbconvert_exporter": "python",
   "pygments_lexer": "ipython3",
   "version": "3.11.5"
  }
 },
 "nbformat": 4,
 "nbformat_minor": 5
}
